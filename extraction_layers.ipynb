{
 "cells": [
  {
   "cell_type": "code",
   "execution_count": 57,
   "metadata": {},
   "outputs": [],
   "source": [
    "import numpy as np\n",
    "\n",
    "def compute_psnr(original, reconstructed):\n",
    "    \"\"\"\n",
    "    Calcule le PSNR entre l'image originale et l'image reconstruite.\n",
    "\n",
    "    :param original: Image originale (numpy array, valeurs entre 0 et 1)\n",
    "    :param reconstructed: Image reconstruite (numpy array, valeurs entre 0 et 1)\n",
    "    :return: Valeur du PSNR en dB\n",
    "    \"\"\"\n",
    "    mse = np.mean((original - reconstructed) ** 2)  # Erreur quadratique moyenne\n",
    "    if mse == 0:\n",
    "        return float('inf')  # PSNR infini si pas d'erreur\n",
    "    max_pixel = 255.0  # L'image est normalisée entre 0 et 1\n",
    "    psnr = 20 * np.log10(max_pixel / np.sqrt(mse))  # Formule PSNR\n",
    "    return psnr\n"
   ]
  },
  {
   "cell_type": "code",
   "execution_count": 9,
   "metadata": {},
   "outputs": [
    {
     "data": {
      "text/plain": [
       "<All keys matched successfully>"
      ]
     },
     "execution_count": 9,
     "metadata": {},
     "output_type": "execute_result"
    }
   ],
   "source": [
    "import torch\n",
    "import torch.nn as nn\n",
    "import torch.nn.functional as F\n",
    "import scipy.io as sio\n",
    "import numpy as np\n",
    "import os\n",
    "import glob\n",
    "from time import time\n",
    "import math\n",
    "from torch.nn import init\n",
    "import copy\n",
    "import cv2\n",
    "from skimage.metrics import structural_similarity as ssim\n",
    "import matplotlib.pyplot as plt\n",
    "\n",
    "# Configuration des paramètres\n",
    "config = {\n",
    "    \"epoch_num\": 200,\n",
    "    \"layer_num\": 9,\n",
    "    \"learning_rate\": 1e-4,\n",
    "    \"group_num\": 1,\n",
    "    \"cs_ratio\": 1,\n",
    "    \"gpu_list\": \"0\",\n",
    "    \"matrix_dir\": \"sampling_matrix\",\n",
    "    \"model_dir\": \"model\",\n",
    "    \"data_dir\": \"data\",\n",
    "    \"log_dir\": \"log\",\n",
    "    \"result_dir\": \"result\",\n",
    "    \"test_name\": \"Set11\"\n",
    "}\n",
    "\n",
    "# Configuration GPU\n",
    "os.environ[\"CUDA_DEVICE_ORDER\"] = \"PCI_BUS_ID\"\n",
    "os.environ[\"CUDA_VISIBLE_DEVICES\"] = config[\"gpu_list\"]\n",
    "device = torch.device(\"cuda:0\" if torch.cuda.is_available() else \"cpu\")\n",
    "\n",
    "ratio_dict = {1: 10, 4: 43, 10: 109, 25: 272, 30: 327, 40: 436, 50: 545}\n",
    "n_input = ratio_dict[config[\"cs_ratio\"]]\n",
    "n_output = 1089\n",
    "\n",
    "# Chargement de la matrice de sampling\n",
    "Phi_data_Name = f'./{config[\"matrix_dir\"]}/phi_0_{config[\"cs_ratio\"]}_1089.mat'\n",
    "Phi_data = sio.loadmat(Phi_data_Name)\n",
    "Phi_input = Phi_data['phi']\n",
    "\n",
    "# Définition du modèle ISTA-Net\n",
    "class BasicBlock(torch.nn.Module):\n",
    "    def __init__(self):\n",
    "        super(BasicBlock, self).__init__()\n",
    "        self.lambda_step = nn.Parameter(torch.Tensor([0.5]))\n",
    "        self.soft_thr = nn.Parameter(torch.Tensor([0.01]))\n",
    "        self.conv1_forward = nn.Parameter(init.xavier_normal_(torch.Tensor(32, 1, 3, 3)))\n",
    "        self.conv2_forward = nn.Parameter(init.xavier_normal_(torch.Tensor(32, 32, 3, 3)))\n",
    "        self.conv1_backward = nn.Parameter(init.xavier_normal_(torch.Tensor(32, 32, 3, 3)))\n",
    "        self.conv2_backward = nn.Parameter(init.xavier_normal_(torch.Tensor(1, 32, 3, 3)))\n",
    "    \n",
    "    def forward(self, x, PhiTPhi, PhiTb):\n",
    "        x = x - self.lambda_step * torch.mm(x, PhiTPhi)\n",
    "        x = x + self.lambda_step * PhiTb\n",
    "        x_input = x.view(-1, 1, 33, 33)\n",
    "        x = F.relu(F.conv2d(x_input, self.conv1_forward, padding=1))\n",
    "        x_forward = F.conv2d(x, self.conv2_forward, padding=1)\n",
    "        x = torch.mul(torch.sign(x_forward), F.relu(torch.abs(x_forward) - self.soft_thr))\n",
    "        x = F.relu(F.conv2d(x, self.conv1_backward, padding=1))\n",
    "        x_backward = F.conv2d(x, self.conv2_backward, padding=1)\n",
    "        x_pred = x_backward.view(-1, 1089)\n",
    "        return x_pred\n",
    "\n",
    "class ISTANet(torch.nn.Module):\n",
    "    def __init__(self, LayerNo):\n",
    "        super(ISTANet, self).__init__()\n",
    "        self.LayerNo = LayerNo\n",
    "        self.fcs = nn.ModuleList([BasicBlock() for _ in range(LayerNo)])\n",
    "    \n",
    "    def forward(self, Phix, Phi, Qinit):\n",
    "        PhiTPhi = torch.mm(Phi.T, Phi)\n",
    "        PhiTb = torch.mm(Phix, Phi)\n",
    "        x = torch.mm(Phix, Qinit.T)\n",
    "        for layer in self.fcs:\n",
    "            x = layer(x, PhiTPhi, PhiTb)\n",
    "        return x\n",
    "\n",
    "# Chargement du modèle\n",
    "model = ISTANet(config[\"layer_num\"])\n",
    "model = nn.DataParallel(model).to(device)\n",
    "optimizer = torch.optim.Adam(model.parameters(), lr=config[\"learning_rate\"])\n",
    "\n",
    "model_dir = f\"./{config['model_dir']}/CS_ISTA_Net_layer_{config['layer_num']}_group_{config['group_num']}_ratio_{config['cs_ratio']}_lr_{config['learning_rate']:.4f}\"\n",
    "model.load_state_dict(torch.load(f'{model_dir}/net_params_{config[\"epoch_num\"]}.pkl', map_location=device))\n"
   ]
  },
  {
   "cell_type": "code",
   "execution_count": 44,
   "metadata": {},
   "outputs": [],
   "source": [
    "lambda_fista = model.state_dict()['module.fcs.8.lambda_step'].item()\n",
    "soft_thr_fista = model.state_dict()['module.fcs.8.soft_thr'].item()\n",
    "\n",
    "conv1_f = model.state_dict()['module.fcs.8.conv1_forward'].detach().cpu().numpy()\n",
    "conv2_f = model.state_dict()['module.fcs.8.conv2_forward'].detach().cpu().numpy()\n",
    "conv1_b = model.state_dict()['module.fcs.8.conv1_backward'].detach().cpu().numpy()\n",
    "conv2_b = model.state_dict()['module.fcs.8.conv2_backward'].detach().cpu().numpy()"
   ]
  },
  {
   "cell_type": "code",
   "execution_count": 45,
   "metadata": {},
   "outputs": [
    {
     "data": {
      "text/plain": [
       "(2.4471731185913086, -0.018895795568823814)"
      ]
     },
     "execution_count": 45,
     "metadata": {},
     "output_type": "execute_result"
    }
   ],
   "source": [
    "lambda_fista, soft_thr_fista"
   ]
  },
  {
   "cell_type": "code",
   "execution_count": 52,
   "metadata": {},
   "outputs": [],
   "source": [
    "import numpy as np\n",
    "import scipy.signal\n",
    "\n",
    "def soft_thresholding(x, threshold):\n",
    "    return np.sign(x) * np.maximum(np.abs(x) - threshold, 0)\n",
    "\n",
    "def convolve2d(x, kernel):\n",
    "    \"\"\" Convolution 2D avec padding symétrique \"\"\"\n",
    "    return scipy.signal.convolve2d(x, kernel, mode='same', boundary='symm')\n",
    "\n",
    "def fista_conv(y, Phi, PhiT, conv1_f, conv2_f, conv1_b, conv2_b, lambda_fista, soft_thr_fista, num_iters=50):\n",
    "    \"\"\"\n",
    "    Implémentation de FISTA en utilisant les convolutions apprises de ISTA-Net.\n",
    "    - y : observation (M, 1)\n",
    "    - Phi : matrice de mesure (M, N)\n",
    "    - PhiT : transposée de Phi (N, M)\n",
    "    \"\"\"\n",
    "\n",
    "    N = PhiT.shape[0]  # Taille de la reconstruction (doit être 1089 pour ISTA-Net)\n",
    "    H, W = 33, 33  # Dimensions d'image attendues (carré parfait pour convolution)\n",
    "\n",
    "    x = np.dot(PhiT, y)  # Estimation initiale (N, 1)\n",
    "    x = x.reshape(H, W)  # Reshape en image\n",
    "\n",
    "    t = 1\n",
    "    z = x.copy()\n",
    "\n",
    "    for k in range(num_iters):\n",
    "        gradient = np.dot(PhiT, np.dot(Phi, z.flatten())) - np.dot(PhiT, y).flatten()\n",
    "        x_new = soft_thresholding(z.flatten() - lambda_fista * gradient, lambda_fista)\n",
    "        x_new = x_new.reshape(H, W)  # Reshape en image 2D\n",
    "\n",
    "        # Appliquer les convolutions apprises\n",
    "        x_conv1 = convolve2d(x_new, conv1_f[0, 0])\n",
    "        x_relu1 = np.maximum(x_conv1, 0)\n",
    "        x_conv2 = convolve2d(x_relu1, conv2_f[0, 0])\n",
    "        \n",
    "        x_thresh = soft_thresholding(x_conv2, soft_thr_fista)\n",
    "\n",
    "        x_conv3 = convolve2d(x_thresh, conv1_b[0, 0])\n",
    "        x_relu2 = np.maximum(x_conv3, 0)\n",
    "        x_conv4 = convolve2d(x_relu2, conv2_b[0, 0])\n",
    "\n",
    "        x_final = x_conv4  # Image reconstruite\n",
    "\n",
    "        # Mise à jour de FISTA\n",
    "        t_new = (1 + np.sqrt(1 + 4 * t**2)) / 2\n",
    "        z = x_final + ((t - 1) / t_new) * (x_final - x)\n",
    "        x, t = x_final, t_new\n",
    "        # print(\"Iteration\", k, \"- Min:\", x_final.min(), \"Max:\", x_final.max())\n",
    "\n",
    "\n",
    "    return x_final  # Image (33x33)\n"
   ]
  },
  {
   "cell_type": "code",
   "execution_count": 61,
   "metadata": {},
   "outputs": [
    {
     "data": {
      "image/png": "[encoded data removed]",
      "text/plain": [
       "<Figure size 1000x500 with 2 Axes>"
      ]
     },
     "metadata": {},
     "output_type": "display_data"
    },
    {
     "name": "stdout",
     "output_type": "stream",
     "text": [
      "Shape de Phi : (109, 1089)\n",
      "Shape de x_true : (1089, 1)\n",
      "Shape de y : (109, 1)\n",
      "Min: 0.0 Max: 1.0\n",
      "PSNR de l'image reconstruite : 5.40 dB\n"
     ]
    }
   ],
   "source": [
    "# Charger la matrice Phi depuis le fichier .mat\n",
    "Phi_data = sio.loadmat(\"sampling_matrix/phi_0_10_1089.mat\")  # Adapte le chemin si nécessaire\n",
    "Phi = Phi_data['phi']  # Extraction de la matrice\n",
    "PhiT = Phi.T  # Transposée de Phi\n",
    "\n",
    "\n",
    "# Charger une image .tif en niveaux de gris\n",
    "image = cv2.imread(\"data/Set11/boats.tif\", cv2.IMREAD_UNCHANGED)\n",
    "\n",
    "# Vérifier la profondeur de l'image et normaliser en conséquence\n",
    "# if image.dtype == np.uint8:\n",
    "#     image = image.astype(np.float32) / 255.0  # Normalisation pour images 8 bits\n",
    "# elif image.dtype == np.uint16:\n",
    "#     image = image.astype(np.float32) / 65535.0  # Normalisation pour images 16 bits\n",
    "\n",
    "# # Redimensionner en 33x33 (si nécessaire)\n",
    "image = cv2.resize(image, (33, 33), interpolation=cv2.INTER_AREA)\n",
    "\n",
    "# Vectorisation\n",
    "x_true = image.flatten().reshape(-1, 1)  # (1089, 1)\n",
    "\n",
    "y = np.dot(Phi, x_true)  # (M, 1)\n",
    "\n",
    "# Reconstruction avec FISTA\n",
    "x_reconstructed = fista_conv(\n",
    "    y, Phi, PhiT, conv1_f, conv2_f, conv1_b, conv2_b,\n",
    "    lambda_fista, soft_thr_fista, num_iters=50\n",
    ")\n",
    "\n",
    "# Normalisation des valeurs reconstruites\n",
    "x_reconstructed = x_reconstructed - x_reconstructed.min()  # Décaler vers 0\n",
    "x_reconstructed = x_reconstructed / x_reconstructed.max()  # Mettre entre 0 et 1\n",
    "\n",
    "\n",
    "# Afficher l'image originale et reconstruite\n",
    "plt.figure(figsize=(10, 5))\n",
    "plt.subplot(1, 2, 1)\n",
    "plt.imshow(image, cmap=\"gray\")\n",
    "plt.title(\"Image originale\")\n",
    "\n",
    "plt.subplot(1, 2, 2)\n",
    "plt.imshow(x_reconstructed, cmap=\"gray\")\n",
    "plt.title(\"Image reconstruite\")\n",
    "\n",
    "plt.show()\n",
    "\n",
    "# plt.imshow(x_reconstructed, cmap=\"gray\", vmin=0, vmax=1)\n",
    "print(\"Shape de Phi :\", Phi.shape)\n",
    "print(\"Shape de x_true :\", x_true.shape)\n",
    "print(\"Shape de y :\", y.shape)\n",
    "\n",
    "\n",
    "print(\"Min:\", x_reconstructed.min(), \"Max:\", x_reconstructed.max())\n",
    "\n",
    "psnr_value = compute_psnr(image, x_reconstructed)\n",
    "print(f\"PSNR de l'image reconstruite : {psnr_value:.2f} dB\")"
   ]
  },
  {
   "cell_type": "code",
   "execution_count": 51,
   "metadata": {},
   "outputs": [
    {
     "name": "stdout",
     "output_type": "stream",
     "text": [
      "Reconstruction terminée !\n",
      "Taille de l'image reconstruite : (33, 33)\n"
     ]
    }
   ],
   "source": [
    "# Générer une matrice Phi et un signal y avec la bonne taille\n",
    "N = 1089  # Taille de l'image aplatie (33x33)\n",
    "M = N // 2  # Moitié des mesures\n",
    "A = np.random.randn(M, N)  # Matrice de mesure (M x N)\n",
    "y = np.random.randn(M, 1)  # Signal observé (M x 1)\n",
    "A_T = A.T  # Transposée de Phi\n",
    "\n",
    "# Reconstruction avec FISTA utilisant les poids de ISTA-Net\n",
    "x_reconstructed = fista_conv(y, A, A_T, conv1_f, conv2_f, conv1_b, conv2_b, lambda_fista, soft_thr_fista)\n",
    "\n",
    "print(\"Reconstruction terminée !\")\n",
    "print(\"Taille de l'image reconstruite :\", x_reconstructed.shape)  # Doit être (33, 33)\n"
   ]
  }
 ],
 "metadata": {
  "kernelspec": {
   "display_name": ".venv",
   "language": "python",
   "name": "python3"
  },
  "language_info": {
   "codemirror_mode": {
    "name": "ipython",
    "version": 3
   },
   "file_extension": ".py",
   "mimetype": "text/x-python",
   "name": "python",
   "nbconvert_exporter": "python",
   "pygments_lexer": "ipython3",
   "version": "3.12.2"
  }
 },
 "nbformat": 4,
 "nbformat_minor": 2
}
